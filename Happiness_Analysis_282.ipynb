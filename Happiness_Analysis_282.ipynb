{
  "nbformat": 4,
  "nbformat_minor": 0,
  "metadata": {
    "colab": {
      "private_outputs": true,
      "provenance": [],
      "authorship_tag": "ABX9TyOPGoDddj0BQpasGyV2x/N6",
      "include_colab_link": true
    },
    "kernelspec": {
      "name": "python3",
      "display_name": "Python 3"
    },
    "language_info": {
      "name": "python"
    }
  },
  "cells": [
    {
      "cell_type": "markdown",
      "metadata": {
        "id": "view-in-github",
        "colab_type": "text"
      },
      "source": [
        "<a href=\"https://colab.research.google.com/github/gndede/myproject/blob/master/Happiness_Analysis_282.ipynb\" target=\"_parent\"><img src=\"https://colab.research.google.com/assets/colab-badge.svg\" alt=\"Open In Colab\"/></a>"
      ]
    },
    {
      "cell_type": "code",
      "source": [
        "#import the data analysis libraries\n",
        "import pandas as pd\n",
        "import numpy as np"
      ],
      "metadata": {
        "id": "V60HpPMdzk5s"
      },
      "execution_count": null,
      "outputs": []
    },
    {
      "cell_type": "code",
      "source": [
        "#load the world happiness dataset\n",
        "world_happiness = pd.read_csv(\"/content/2019.csv\")"
      ],
      "metadata": {
        "id": "YtoewRcAF0fi"
      },
      "execution_count": null,
      "outputs": []
    },
    {
      "cell_type": "code",
      "source": [
        "print(world_happiness.info())"
      ],
      "metadata": {
        "id": "o3S7VcJpgoe_"
      },
      "execution_count": null,
      "outputs": []
    },
    {
      "cell_type": "code",
      "source": [
        "print(world_happiness.describe())"
      ],
      "metadata": {
        "id": "FnWpqASSg2Nz"
      },
      "execution_count": null,
      "outputs": []
    },
    {
      "cell_type": "code",
      "source": [
        "#rename the columns country and corruption instead for columns 2 and 9\n",
        "new_world_happiness = world_happiness.rename(columns={'Country or region': 'country', 'Perceptions of corruption': 'corruption'})"
      ],
      "metadata": {
        "id": "XH2PZ5hNHM8G"
      },
      "execution_count": null,
      "outputs": []
    },
    {
      "cell_type": "code",
      "source": [
        "#list the first 5 countries\n",
        "new_world_happiness.head(5)"
      ],
      "metadata": {
        "id": "wRa47eYaHyC-"
      },
      "execution_count": null,
      "outputs": []
    },
    {
      "cell_type": "code",
      "source": [
        "#list the last 5 countries\n",
        "new_world_happiness.tail(5)"
      ],
      "metadata": {
        "id": "Gf4j9W_rK14O"
      },
      "execution_count": null,
      "outputs": []
    },
    {
      "cell_type": "code",
      "source": [
        "countries = new_world_happiness.loc[[152, 151, 135, 120, 144, 155]]"
      ],
      "metadata": {
        "id": "4doGXaCnG22S"
      },
      "execution_count": null,
      "outputs": []
    },
    {
      "cell_type": "markdown",
      "source": [
        "**Data Collection and Preparation**\n",
        "\n",
        "**Gather Data:**\n",
        "Collect data from sources like the World Bank, the World Health Organization, and the Gallup World Poll. This data should include the factors mentioned earlier, for the population or regions of interest."
      ],
      "metadata": {
        "id": "TFk9SbbAX4P3"
      }
    },
    {
      "cell_type": "code",
      "source": [
        "countries"
      ],
      "metadata": {
        "id": "OZ8OS5QAKUQb"
      },
      "execution_count": null,
      "outputs": []
    },
    {
      "cell_type": "code",
      "source": [
        "#rename the columns to conform to the columns for study\n",
        "data = world_happiness.rename(columns={'GDP per capita': 'GDP_per_capita',\n",
        "                          'Social support': 'Social_support',\n",
        "                          'Healthy life expectancy':'Healthy_life_expectancy',\n",
        "                          'Freedom_to_make_life_choices':'Freedom_to_make_life_choices',\n",
        "                          'Generosity':'Generosity',\n",
        "                          'corruption':'Perceptions_of_corruption'})"
      ],
      "metadata": {
        "id": "pEPwBf5QQhRr"
      },
      "execution_count": null,
      "outputs": []
    },
    {
      "cell_type": "markdown",
      "source": [
        "**Create a Dataframe:**\n",
        "Use the pandas library to create a dataframe, organizing the data with columns for each factor and rows for each population group (e.g., country or/and region)."
      ],
      "metadata": {
        "id": "-bMs8tZsXdUN"
      }
    },
    {
      "cell_type": "code",
      "source": [
        "data = {\n",
        "    'Country': ['Tanzania', 'Rwanda', 'Uganda', 'Kenya', 'Burundi','South Sudan'],\n",
        "    'GDP_per_capita': [0.476, 0.359, 0.332, 0.512, 0.046, 0.306],\n",
        "    'Social_support': [0.885, 0.711, 0.069, 0.983, 0.447, 0.575],\n",
        "    'Healthy_life_expectancy': [0.499, 0.614, 0.443, 0.581, 0.380, 0.295],\n",
        "    'Freedom_to_make_life_choices': [0.417, 0.555, 0.356, 0.431, 0.220, 0.010],\n",
        "    'Generosity': [0.276, 0.217, 0.252, 0.372, 0.176, 0.202],\n",
        "    'Perceptions_of_corruption': [0.147, 0.411, 0.060, 0.053, 0.180, 0.091]\n",
        "}\n",
        "\n",
        "df = pd.DataFrame(data)"
      ],
      "metadata": {
        "id": "NCu36yPVMfX1"
      },
      "execution_count": null,
      "outputs": []
    },
    {
      "cell_type": "markdown",
      "source": [
        "**Calculate the Happiness Index**\n",
        "\n",
        "**Weighting:**\n",
        "Assign weights to each factor based on their relative importance. The World Happiness Report uses equal weights, but these can be adjusted based on specific research goals.\n",
        "\n",
        "**Normalize Data (Optional):**\n",
        "If the data is on different scales, normalize it to a common scale (e.g., 0 to 1) to ensure fair comparison.\n",
        "\n",
        "**Calculate the Index:**\n",
        "Multiply each factor by its weight and sum the results for each population group."
      ],
      "metadata": {
        "id": "O20rG2WnXLkW"
      }
    },
    {
      "cell_type": "code",
      "source": [
        "weights = {\n",
        "    'GDP_per_capita': 1,\n",
        "    'Social_support': 1,\n",
        "    'Healthy_life_expectancy': 1,\n",
        "    'Freedom_to_make_life_choices': 1,\n",
        "    'Generosity': 1,\n",
        "    'Perceptions_of_corruption': 1\n",
        "}"
      ],
      "metadata": {
        "id": "vMNrrv0_WETI"
      },
      "execution_count": null,
      "outputs": []
    },
    {
      "cell_type": "code",
      "source": [
        "df['Happiness_index'] = (\n",
        "    df['GDP_per_capita'] * weights['GDP_per_capita'] +\n",
        "    df['Social_support'] * weights['Social_support'] +\n",
        "    df['Healthy_life_expectancy'] * weights['Healthy_life_expectancy'] +\n",
        "    df['Freedom_to_make_life_choices'] * weights['Freedom_to_make_life_choices'] +\n",
        "    df['Generosity'] * weights['Generosity'] +\n",
        "    df['Perceptions_of_corruption'] * weights['Perceptions_of_corruption']\n",
        ")"
      ],
      "metadata": {
        "id": "PwUJ_tP8WSR0"
      },
      "execution_count": null,
      "outputs": []
    },
    {
      "cell_type": "markdown",
      "source": [
        "**Analyze:**\n",
        "Examine the calculated happiness index for each population group. Compare the indices and identify trends or patterns."
      ],
      "metadata": {
        "id": "qFGpKRCQXAv4"
      }
    },
    {
      "cell_type": "code",
      "source": [
        "#Visualize:\n",
        "#Use libraries like matplotlib or seaborn to create visualizations, such as bar charts or maps, to represent the happiness index.\n",
        "import matplotlib.pyplot as plt\n",
        "plt.bar(df['Country'], df['Happiness_index'])\n",
        "plt.xlabel('Country')\n",
        "plt.ylabel('Happiness Index')\n",
        "plt.title('Happiness Index by Country')\n",
        "plt.show()"
      ],
      "metadata": {
        "id": "khpKI_xnWjMS"
      },
      "execution_count": null,
      "outputs": []
    },
    {
      "cell_type": "code",
      "source": [
        "# Step 5: Analyze factors influencing happiness\n",
        "# This pair plot allows us to examine the relationships between key factors (GDP per Capita, Family, Health) and Happiness Score.\n",
        "# Each point in the scatter plots represents a country, and the patterns can reveal insights into which factors contribute most to overall happiness.\n",
        "import seaborn as sns\n",
        "sns.pairplot(df, x_vars=['GDP_per_capita', 'Generosity', 'Healthy_life_expectancy'], kind='scatter')\n",
        "plt.suptitle('Factors Influencing Happiness')\n",
        "plt.show()"
      ],
      "metadata": {
        "id": "J8-J0KH_fCK0"
      },
      "execution_count": null,
      "outputs": []
    },
    {
      "cell_type": "markdown",
      "source": [
        "**Calculate Correlation Matrix.**\n",
        "Compute the correlation matrix using the .corr() method on the DataFrame."
      ],
      "metadata": {
        "id": "IJLYrkAvlzL1"
      }
    },
    {
      "cell_type": "code",
      "source": [
        "#Choose the relevant variables for the correlation analysis, including the happiness score and the factors contributing to it.\n",
        "df_corr = df[['GDP_per_capita', 'Social_support', 'Healthy_life_expectancy', 'Freedom_to_make_life_choices', 'Generosity', 'Perceptions_of_corruption']]\n",
        "df_corr.corr()"
      ],
      "metadata": {
        "id": "V40PVmwAkMLZ"
      },
      "execution_count": null,
      "outputs": []
    },
    {
      "cell_type": "markdown",
      "source": [
        "This code will output a heatmap showing the correlation coefficients between the selected variables in the Happiness Index dataset. The annot=True argument displays the correlation values on the heatmap, cmap='coolwarm' sets the color scheme, and fmt=\".2f\" formats the correlation values to two decimal places."
      ],
      "metadata": {
        "id": "psX-9SNHljnv"
      }
    },
    {
      "cell_type": "code",
      "source": [
        "correlation_matrix = df_corr.corr(numeric_only=True)\n",
        "plt.figure(figsize=(10, 8))\n",
        "sns.heatmap(correlation_matrix, annot=True, cmap='coolwarm', fmt=\".2f\")\n",
        "plt.title('Correlation Matrix')\n",
        "plt.show()"
      ],
      "metadata": {
        "id": "0IcCRtGElQ6l"
      },
      "execution_count": null,
      "outputs": []
    }
  ]
}