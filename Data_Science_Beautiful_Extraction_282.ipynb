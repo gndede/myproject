{
  "nbformat": 4,
  "nbformat_minor": 0,
  "metadata": {
    "colab": {
      "private_outputs": true,
      "provenance": [],
      "authorship_tag": "ABX9TyOZRc6jYaXFCQzlO+g3IOa7",
      "include_colab_link": true
    },
    "kernelspec": {
      "name": "python3",
      "display_name": "Python 3"
    },
    "language_info": {
      "name": "python"
    }
  },
  "cells": [
    {
      "cell_type": "markdown",
      "metadata": {
        "id": "view-in-github",
        "colab_type": "text"
      },
      "source": [
        "<a href=\"https://colab.research.google.com/github/gndede/myproject/blob/master/Data_Science_Beautiful_Extraction_282.ipynb\" target=\"_parent\"><img src=\"https://colab.research.google.com/assets/colab-badge.svg\" alt=\"Open In Colab\"/></a>"
      ]
    },
    {
      "cell_type": "code",
      "execution_count": null,
      "metadata": {
        "id": "_aEuDz21AjR8"
      },
      "outputs": [],
      "source": [
        "# import modules\n",
        "import requests\n",
        "from bs4 import BeautifulSoup\n",
        "import pandas as pd"
      ]
    },
    {
      "cell_type": "code",
      "source": [
        "#link the url to extract data from\n",
        "url = 'https://en.wikipedia.org/wiki/List_of_counties_of_Kenya_by_GDP'\n",
        "\n",
        "#save the contents of the extracted page in a page variable\n",
        "page = requests.get(url)\n",
        "\n",
        "#parse the html contents of the page, get its text contents and grab it together with its HTML\n",
        "soup = BeautifulSoup(page.text, 'html')"
      ],
      "metadata": {
        "id": "KkyTyOhiAt7R"
      },
      "execution_count": null,
      "outputs": []
    },
    {
      "cell_type": "code",
      "source": [
        "#soup.find_all('table')[0]"
      ],
      "metadata": {
        "id": "WvOm5MuUGSfz"
      },
      "execution_count": null,
      "outputs": []
    },
    {
      "cell_type": "code",
      "source": [
        "#grab table titles for first GDP (Nominal) table\n",
        "gdp_table_title = [title.text.strip() for title in soup.find_all('table')[0].find_all('th')]\n",
        "gdp_table_title"
      ],
      "metadata": {
        "id": "bqPxOHY5QW-P"
      },
      "execution_count": null,
      "outputs": []
    },
    {
      "cell_type": "code",
      "source": [
        "#import pandas and convert the title to panda dataframe format\n",
        "table1_title = pd.DataFrame(columns = gdp_table_title)"
      ],
      "metadata": {
        "id": "wag3W3uBRLeO"
      },
      "execution_count": null,
      "outputs": []
    },
    {
      "cell_type": "code",
      "source": [
        "#grab table titles for second GCP PPP table\n",
        "gdp_table_title1 = [title.text.strip() for title in soup.find_all('table')[1].find_all('th')]\n",
        "gdp_table_title1"
      ],
      "metadata": {
        "id": "trM7MLlxTWaM"
      },
      "execution_count": null,
      "outputs": []
    },
    {
      "cell_type": "code",
      "source": [
        "#import pandas and convert the title to panda dataframe format\n",
        "table2_title = pd.DataFrame(columns = gdp_table_title1)"
      ],
      "metadata": {
        "id": "QECZ8C3JThh_"
      },
      "execution_count": null,
      "outputs": []
    },
    {
      "cell_type": "code",
      "source": [
        "#grab table titles for Third GCP per capita table\n",
        "gdp_table_title2 = [title.text.strip() for title in soup.find_all('table')[2].find_all('th')]\n",
        "gdp_table_title2"
      ],
      "metadata": {
        "id": "MIRHsjipT16N"
      },
      "execution_count": null,
      "outputs": []
    },
    {
      "cell_type": "code",
      "source": [
        "#import pandas and convert the title to panda dataframe format\n",
        "table3_title = pd.DataFrame(columns = gdp_table_title2)"
      ],
      "metadata": {
        "id": "c-YZyiDkT-v3"
      },
      "execution_count": null,
      "outputs": []
    },
    {
      "cell_type": "code",
      "source": [
        "#grab table titles for Fourth Per Capita PPP table\n",
        "gdp_table_title3 = [title.text.strip() for title in soup.find_all('table')[3].find_all('th')]\n",
        "gdp_table_title3"
      ],
      "metadata": {
        "id": "vHqtQewwUSY8"
      },
      "execution_count": null,
      "outputs": []
    },
    {
      "cell_type": "code",
      "source": [
        "#import pandas and convert the title to panda dataframe format\n",
        "table4_title = pd.DataFrame(columns = gdp_table_title3)"
      ],
      "metadata": {
        "id": "bRXzxvSbUTvB"
      },
      "execution_count": null,
      "outputs": []
    },
    {
      "cell_type": "code",
      "source": [
        "#get column data\n",
        "#extract individual columns for table 1\n",
        "column_data = soup.find_all('table')[0].find_all('tr')\n",
        "#column_data"
      ],
      "metadata": {
        "id": "FxraNwU-XHqj"
      },
      "execution_count": null,
      "outputs": []
    },
    {
      "cell_type": "code",
      "source": [
        "#extract individual columns for table 2\n",
        "column_data1 = soup.find_all('table')[1].find_all('tr')\n",
        "#column_data1"
      ],
      "metadata": {
        "id": "N23J5ygtXgpY"
      },
      "execution_count": null,
      "outputs": []
    },
    {
      "cell_type": "code",
      "source": [
        "#extract individual columns for table 3\n",
        "column_data2 = soup.find_all('table')[2].find_all('tr')\n",
        "#column_data2"
      ],
      "metadata": {
        "id": "YH2-bR_nX1tP"
      },
      "execution_count": null,
      "outputs": []
    },
    {
      "cell_type": "code",
      "source": [
        "#extract individual columns for table 4\n",
        "column_data3 = soup.find_all('table')[3].find_all('tr')\n",
        "#column_data3"
      ],
      "metadata": {
        "id": "wRZ5Dbj4X1us"
      },
      "execution_count": null,
      "outputs": []
    },
    {
      "cell_type": "code",
      "source": [
        "for row in column_data[1:]:\n",
        "    row_data = row.find_all('td')\n",
        "    individual_row_data = [data.text.strip() for data in row_data]\n",
        "    #print(individual_row_data)\n",
        "    length = len(table1_title)\n",
        "    table1_title.loc[length] = individual_row_data"
      ],
      "metadata": {
        "id": "IMfQD_aVYRkp"
      },
      "execution_count": null,
      "outputs": []
    },
    {
      "cell_type": "code",
      "source": [
        "for row in column_data1[1:]:\n",
        "    row_data = row.find_all('td')\n",
        "    individual_row_data = [data.text.strip() for data in row_data]\n",
        "    #print(individual_row_data)\n",
        "    length = len(table2_title)\n",
        "    table2_title.loc[length] = individual_row_data"
      ],
      "metadata": {
        "id": "Qhc6r1NHY3id"
      },
      "execution_count": null,
      "outputs": []
    },
    {
      "cell_type": "code",
      "source": [
        "for row in column_data2[1:]:\n",
        "    row_data = row.find_all('td')\n",
        "    individual_row_data = [data.text.strip() for data in row_data]\n",
        "    #print(individual_row_data)\n",
        "    length = len(table3_title)\n",
        "    table3_title.loc[length] = individual_row_data"
      ],
      "metadata": {
        "id": "cr_pEl34Y-C8"
      },
      "execution_count": null,
      "outputs": []
    },
    {
      "cell_type": "code",
      "source": [
        "for row in column_data3[1:]:\n",
        "    row_data = row.find_all('td')\n",
        "    individual_row_data = [data.text.strip() for data in row_data]\n",
        "    #print(individual_row_data)\n",
        "    length = len(table4_title)\n",
        "    table4_title.loc[length] = individual_row_data"
      ],
      "metadata": {
        "id": "3dsyL7m6ZDgS"
      },
      "execution_count": null,
      "outputs": []
    },
    {
      "cell_type": "code",
      "source": [
        "#export the following to a csv file\n",
        "table4_title.to_csv(r'/content/sample_data/Per_Capita_PPP.csv', index = False)\n",
        "\n",
        "#export the following to a csv file\n",
        "table3_title.to_csv(r'/content/sample_data/GCP_per_capita.csv', index = False)\n",
        "\n",
        "#export the following to a csv file\n",
        "table2_title.to_csv(r'/content/sample_data/GCP_PPP.csv', index = False)\n",
        "\n",
        "#export the following to a csv file\n",
        "table1_title.to_csv(r'/content/sample_data/GDP_Nominal.csv', index = False)"
      ],
      "metadata": {
        "id": "4nE3GkbObuNX"
      },
      "execution_count": null,
      "outputs": []
    },
    {
      "cell_type": "code",
      "source": [],
      "metadata": {
        "id": "ToZFy6Qhh8tK"
      },
      "execution_count": null,
      "outputs": []
    },
    {
      "cell_type": "code",
      "source": [
        "df.to_csv(r'/home/george/Documents/Data_Science/county.csv', index = False)"
      ],
      "metadata": {
        "id": "K27-g5cKhKWF"
      },
      "execution_count": null,
      "outputs": []
    },
    {
      "cell_type": "markdown",
      "source": [],
      "metadata": {
        "id": "9AlgBjRwTS1v"
      }
    },
    {
      "cell_type": "code",
      "source": [
        "world_table_title = soup.find_all('table')[2].find('th')\n",
        "world_table_title"
      ],
      "metadata": {
        "id": "EU9XzOZjP3hk"
      },
      "execution_count": null,
      "outputs": []
    },
    {
      "cell_type": "code",
      "source": [
        "table1 = soup.find_all('table')[0]"
      ],
      "metadata": {
        "id": "kPTgo8jXOrSv"
      },
      "execution_count": null,
      "outputs": []
    },
    {
      "cell_type": "code",
      "source": [
        "table2 = soup.find_all('table')[1]"
      ],
      "metadata": {
        "id": "DB5LK0GYOulr"
      },
      "execution_count": null,
      "outputs": []
    },
    {
      "cell_type": "code",
      "source": [
        "table3 = soup.find_all('table')[2]"
      ],
      "metadata": {
        "id": "dFY-xo6GO1w2"
      },
      "execution_count": null,
      "outputs": []
    },
    {
      "cell_type": "code",
      "source": [
        "table4 = soup.find_all('table')[3]"
      ],
      "metadata": {
        "id": "cMxKEouxO59u"
      },
      "execution_count": null,
      "outputs": []
    },
    {
      "cell_type": "code",
      "source": [
        "soup = BeautifulSoup(page.text, 'html')"
      ],
      "metadata": {
        "id": "137sEY60GOUL"
      },
      "execution_count": null,
      "outputs": []
    }
  ]
}